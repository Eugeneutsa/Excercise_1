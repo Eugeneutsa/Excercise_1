{
 "cells": [
  {
   "cell_type": "markdown",
   "metadata": {},
   "source": [
    "Excercise 1 - Cooking up some python\n",
    "\n",
    "Eugene Hoffman\n",
    "\n",
    "ME 5013"
   ]
  },
  {
   "cell_type": "code",
   "execution_count": 1,
   "metadata": {},
   "outputs": [],
   "source": [
    "import numpy as np"
   ]
  },
  {
   "cell_type": "code",
   "execution_count": 2,
   "metadata": {},
   "outputs": [],
   "source": [
    "# Problem 1\n",
    "ice_cream_rating = 9\n",
    "sleeping_rating = 9"
   ]
  },
  {
   "cell_type": "code",
   "execution_count": 3,
   "metadata": {},
   "outputs": [
    {
     "name": "stdout",
     "output_type": "stream",
     "text": [
      "Enter your first name:\n",
      "Eugene\n",
      "Enter your last name:\n",
      "Hoffman\n"
     ]
    }
   ],
   "source": [
    "# Problem 2\n",
    "print('Enter your first name:')\n",
    "first_name = input()\n",
    "print('Enter your last name:')\n",
    "last_name = input()"
   ]
  },
  {
   "cell_type": "code",
   "execution_count": 4,
   "metadata": {},
   "outputs": [
    {
     "name": "stdout",
     "output_type": "stream",
     "text": [
      "9.0\n"
     ]
    }
   ],
   "source": [
    "# Probem 3\n",
    "happiness_rating = np.mean([ice_cream_rating,sleeping_rating])\n",
    "print(happiness_rating)"
   ]
  },
  {
   "cell_type": "code",
   "execution_count": 5,
   "metadata": {},
   "outputs": [
    {
     "name": "stdout",
     "output_type": "stream",
     "text": [
      "<class 'int'>\n",
      "<class 'str'>\n",
      "<class 'numpy.float64'>\n"
     ]
    }
   ],
   "source": [
    "# Problem 4\n",
    "print(type(ice_cream_rating))\n",
    "print(type(first_name))\n",
    "print(type(happiness_rating))"
   ]
  },
  {
   "cell_type": "markdown",
   "metadata": {},
   "source": [
    "Problem 4-3\n",
    "The first two variables Ice_cream_rating and first_name produced the variables I expected.\n",
    "The variable happiness_rating was a surprise but makes sense because I used a numpy function\n",
    "to calculate the average instead of performing the direct math."
   ]
  },
  {
   "cell_type": "code",
   "execution_count": 6,
   "metadata": {},
   "outputs": [
    {
     "name": "stdout",
     "output_type": "stream",
     "text": [
      "My name is Eugene and I give eating ice cream a score of 9 out of 10!\n",
      "I am Eugene Hoffman and my sleep enjoyment rating is 9 / 10!\n",
      "Based on the factors above, my happiness rating is 9.0 out of 10, or 90.0 %\n"
     ]
    }
   ],
   "source": [
    "# Problem 5\n",
    "print (\"My name is \"+first_name+\" and I give eating ice cream a score of \"+str(ice_cream_rating)+\" out of 10!\")\n",
    "print(\"I am \"+first_name+\" \"+last_name+\" and my sleep enjoyment rating is \"+str(sleeping_rating)+\" / 10!\")\n",
    "hpr = int(happiness_rating)/10 *100\n",
    "print(\"Based on the factors above, my happiness rating is \"+str(happiness_rating)+\" out of 10, or \"+str(hpr)+\" %\")"
   ]
  }
 ],
 "metadata": {
  "kernelspec": {
   "display_name": "Python 3",
   "language": "python",
   "name": "python3"
  },
  "language_info": {
   "codemirror_mode": {
    "name": "ipython",
    "version": 3
   },
   "file_extension": ".py",
   "mimetype": "text/x-python",
   "name": "python",
   "nbconvert_exporter": "python",
   "pygments_lexer": "ipython3",
   "version": "3.8.5"
  }
 },
 "nbformat": 4,
 "nbformat_minor": 4
}
